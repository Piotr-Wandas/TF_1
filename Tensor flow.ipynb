{
 "cells": [
  {
   "cell_type": "code",
   "execution_count": 1,
   "id": "5365fc59",
   "metadata": {},
   "outputs": [],
   "source": [
    "import tensorflow as tf\n",
    "import numpy as np\n",
    "import matplotlib.pyplot as plt"
   ]
  },
  {
   "cell_type": "code",
   "execution_count": 2,
   "id": "98e6d57b",
   "metadata": {},
   "outputs": [],
   "source": [
    "someConst = tf.constant([3, 5.0])"
   ]
  },
  {
   "cell_type": "code",
   "execution_count": 3,
   "id": "2f51ee1c",
   "metadata": {},
   "outputs": [
    {
     "name": "stdout",
     "output_type": "stream",
     "text": [
      "tf.Tensor([3. 5.], shape=(2,), dtype=float32)\n"
     ]
    }
   ],
   "source": [
    "print(someConst)"
   ]
  },
  {
   "cell_type": "code",
   "execution_count": 4,
   "id": "5cdc58f8",
   "metadata": {},
   "outputs": [
    {
     "data": {
      "text/plain": [
       "array([3., 5.], dtype=float32)"
      ]
     },
     "execution_count": 4,
     "metadata": {},
     "output_type": "execute_result"
    }
   ],
   "source": [
    "someConst.numpy()"
   ]
  },
  {
   "cell_type": "code",
   "execution_count": 5,
   "id": "f49a8aae",
   "metadata": {},
   "outputs": [
    {
     "data": {
      "text/plain": [
       "<tf.Variable 'Variable:0' shape=(5,) dtype=float64, numpy=array([0., 1., 2., 3., 4.])>"
      ]
     },
     "execution_count": 5,
     "metadata": {},
     "output_type": "execute_result"
    }
   ],
   "source": [
    "someVariable = tf.Variable(np.arange(5, dtype=np.float64))\n",
    "someVariable"
   ]
  },
  {
   "cell_type": "code",
   "execution_count": 6,
   "id": "f38c101f",
   "metadata": {},
   "outputs": [
    {
     "data": {
      "text/plain": [
       "array([0., 1., 2., 3., 4.])"
      ]
     },
     "execution_count": 6,
     "metadata": {},
     "output_type": "execute_result"
    }
   ],
   "source": [
    "someVariable.numpy()"
   ]
  },
  {
   "cell_type": "code",
   "execution_count": 7,
   "id": "40e03669",
   "metadata": {},
   "outputs": [],
   "source": [
    "a = np.arange(10)\n",
    "b = np.arange(10)\n",
    "\n",
    "c = tf.add(a, b)"
   ]
  },
  {
   "cell_type": "code",
   "execution_count": 8,
   "id": "684dedcc",
   "metadata": {},
   "outputs": [
    {
     "data": {
      "text/plain": [
       "<tf.Tensor: shape=(10,), dtype=int32, numpy=array([ 0,  2,  4,  6,  8, 10, 12, 14, 16, 18])>"
      ]
     },
     "execution_count": 8,
     "metadata": {},
     "output_type": "execute_result"
    }
   ],
   "source": [
    "c"
   ]
  },
  {
   "cell_type": "code",
   "execution_count": 9,
   "id": "9e6de909",
   "metadata": {},
   "outputs": [
    {
     "name": "stdout",
     "output_type": "stream",
     "text": [
      "[0 1 2 3 4 5 6 7 8 9]\n",
      "+[0 1 2 3 4 5 6 7 8 9]\n",
      "=\n",
      "[ 0  2  4  6  8 10 12 14 16 18]\n"
     ]
    }
   ],
   "source": [
    "print(f\"{a}\\n+{b}\\n=\\n{c}\")"
   ]
  },
  {
   "cell_type": "code",
   "execution_count": 10,
   "id": "d8c55603",
   "metadata": {},
   "outputs": [],
   "source": [
    "a = np.arange(10).reshape(10,1)\n",
    "b = np.arange(10).reshape(1,10)\n",
    "\n",
    "c = tf.matmul(a,b)"
   ]
  },
  {
   "cell_type": "code",
   "execution_count": 11,
   "id": "77e47d87",
   "metadata": {},
   "outputs": [
    {
     "name": "stdout",
     "output_type": "stream",
     "text": [
      "[[0]\n",
      " [1]\n",
      " [2]\n",
      " [3]\n",
      " [4]\n",
      " [5]\n",
      " [6]\n",
      " [7]\n",
      " [8]\n",
      " [9]]\n",
      "*[[0 1 2 3 4 5 6 7 8 9]]\n",
      "=\n",
      "[[ 0  0  0  0  0  0  0  0  0  0]\n",
      " [ 0  1  2  3  4  5  6  7  8  9]\n",
      " [ 0  2  4  6  8 10 12 14 16 18]\n",
      " [ 0  3  6  9 12 15 18 21 24 27]\n",
      " [ 0  4  8 12 16 20 24 28 32 36]\n",
      " [ 0  5 10 15 20 25 30 35 40 45]\n",
      " [ 0  6 12 18 24 30 36 42 48 54]\n",
      " [ 0  7 14 21 28 35 42 49 56 63]\n",
      " [ 0  8 16 24 32 40 48 56 64 72]\n",
      " [ 0  9 18 27 36 45 54 63 72 81]]\n"
     ]
    }
   ],
   "source": [
    "print(f\"{a}\\n*{b}\\n=\\n{c}\")"
   ]
  },
  {
   "cell_type": "code",
   "execution_count": 12,
   "id": "fe54047d",
   "metadata": {},
   "outputs": [
    {
     "name": "stdout",
     "output_type": "stream",
     "text": [
      "[[0 1 2 3 4 5 6 7 8 9]]\n",
      "*[[0]\n",
      " [1]\n",
      " [2]\n",
      " [3]\n",
      " [4]\n",
      " [5]\n",
      " [6]\n",
      " [7]\n",
      " [8]\n",
      " [9]]\n",
      "=\n",
      "[[285]]\n"
     ]
    }
   ],
   "source": [
    "a = np.arange(10).reshape(1,10)\n",
    "b = np.arange(10).reshape(10,1)\n",
    "\n",
    "c = tf.matmul(a,b)\n",
    "print(f\"{a}\\n*{b}\\n=\\n{c}\")"
   ]
  },
  {
   "cell_type": "code",
   "execution_count": 13,
   "id": "35732cfe",
   "metadata": {},
   "outputs": [],
   "source": [
    "# Budowanie modelu\n"
   ]
  },
  {
   "cell_type": "code",
   "execution_count": 14,
   "id": "2a355130",
   "metadata": {},
   "outputs": [
    {
     "data": {
      "text/plain": [
       "array([[1., 1.],\n",
       "       [1., 0.],\n",
       "       [0., 1.],\n",
       "       [0., 0.]], dtype=float32)"
      ]
     },
     "execution_count": 14,
     "metadata": {},
     "output_type": "execute_result"
    }
   ],
   "source": [
    "# dane wejsciowe\n",
    "X = np.array([\n",
    "    [1,1],\n",
    "    [1,0],\n",
    "    [0,1],\n",
    "    [0,0]   \n",
    "], dtype=np.float32)\n",
    "X"
   ]
  },
  {
   "cell_type": "code",
   "execution_count": 15,
   "id": "c0b89492",
   "metadata": {},
   "outputs": [
    {
     "data": {
      "text/plain": [
       "array([0., 1., 1., 0.], dtype=float32)"
      ]
     },
     "execution_count": 15,
     "metadata": {},
     "output_type": "execute_result"
    }
   ],
   "source": [
    "# dane wyjściowe\n",
    "Y = np.array([\n",
    "    0,\n",
    "    1,\n",
    "    1,\n",
    "    0\n",
    "], dtype=np.float32)\n",
    "Y"
   ]
  },
  {
   "cell_type": "code",
   "execution_count": 16,
   "id": "41ddba5b",
   "metadata": {},
   "outputs": [],
   "source": [
    "#Warstwy"
   ]
  },
  {
   "cell_type": "code",
   "execution_count": 17,
   "id": "298405e0",
   "metadata": {},
   "outputs": [],
   "source": [
    "from tensorflow.keras import layers"
   ]
  },
  {
   "cell_type": "code",
   "execution_count": 18,
   "id": "734d3883",
   "metadata": {},
   "outputs": [],
   "source": [
    "inputLayer = layers.InputLayer(input_shape=(10))"
   ]
  },
  {
   "cell_type": "code",
   "execution_count": 19,
   "id": "fcdb6b39",
   "metadata": {},
   "outputs": [
    {
     "data": {
      "text/plain": [
       "<tf.Tensor: shape=(10,), dtype=float32, numpy=array([1., 1., 1., 1., 1., 1., 1., 1., 1., 1.], dtype=float32)>"
      ]
     },
     "execution_count": 19,
     "metadata": {},
     "output_type": "execute_result"
    }
   ],
   "source": [
    "inputLayer(tf.ones(10))"
   ]
  },
  {
   "cell_type": "code",
   "execution_count": 20,
   "id": "338f614b",
   "metadata": {},
   "outputs": [],
   "source": [
    "denseLayer = layers.Dense(5)"
   ]
  },
  {
   "cell_type": "code",
   "execution_count": 21,
   "id": "57cc4a2d",
   "metadata": {},
   "outputs": [
    {
     "data": {
      "text/plain": [
       "<tf.Tensor: shape=(1, 5), dtype=float32, numpy=\n",
       "array([[-0.46501744,  1.0949435 , -0.2805295 ,  0.04187983, -0.2826606 ]],\n",
       "      dtype=float32)>"
      ]
     },
     "execution_count": 21,
     "metadata": {},
     "output_type": "execute_result"
    }
   ],
   "source": [
    "denseLayer(tf.ones(shape=(1,2)))"
   ]
  },
  {
   "cell_type": "code",
   "execution_count": 22,
   "id": "efdf4ff9",
   "metadata": {},
   "outputs": [],
   "source": [
    "actLayer = layers.Activation('relu')"
   ]
  },
  {
   "cell_type": "code",
   "execution_count": 23,
   "id": "f8edfc54",
   "metadata": {},
   "outputs": [
    {
     "data": {
      "text/plain": [
       "<tf.Tensor: shape=(1, 5), dtype=float32, numpy=\n",
       "array([[0.        , 1.0949435 , 0.        , 0.04187983, 0.        ]],\n",
       "      dtype=float32)>"
      ]
     },
     "execution_count": 23,
     "metadata": {},
     "output_type": "execute_result"
    }
   ],
   "source": [
    "actLayer(denseLayer(tf.ones(shape=(1,2))))"
   ]
  },
  {
   "cell_type": "code",
   "execution_count": 24,
   "id": "f6bfe5a6",
   "metadata": {},
   "outputs": [],
   "source": [
    "softLayer = layers.Softmax()"
   ]
  },
  {
   "cell_type": "code",
   "execution_count": 25,
   "id": "732c5503",
   "metadata": {},
   "outputs": [
    {
     "data": {
      "text/plain": [
       "<tf.Tensor: shape=(4,), dtype=float32, numpy=\n",
       "array([2.94743892e-04, 2.17787945e-03, 1.18908174e-01, 8.78619194e-01],\n",
       "      dtype=float32)>"
      ]
     },
     "execution_count": 25,
     "metadata": {},
     "output_type": "execute_result"
    }
   ],
   "source": [
    "softLayer(np.array([2,4,8,10], dtype=np.float32))"
   ]
  },
  {
   "cell_type": "code",
   "execution_count": 26,
   "id": "f49918b5",
   "metadata": {},
   "outputs": [],
   "source": [
    "dropLayer = layers.Dropout(0.2)"
   ]
  },
  {
   "cell_type": "code",
   "execution_count": 27,
   "id": "79c18bc3",
   "metadata": {},
   "outputs": [
    {
     "data": {
      "text/plain": [
       "array([0., 1., 2., 3., 4., 5., 6., 7., 8., 9.], dtype=float32)"
      ]
     },
     "execution_count": 27,
     "metadata": {},
     "output_type": "execute_result"
    }
   ],
   "source": [
    "tmpArr = np.arange(10).astype(np.float32)\n",
    "tmpArr"
   ]
  },
  {
   "cell_type": "code",
   "execution_count": 28,
   "id": "34a13fb0",
   "metadata": {},
   "outputs": [
    {
     "data": {
      "text/plain": [
       "array([ 0.  ,  1.25,  2.5 ,  3.75,  5.  ,  0.  ,  7.5 ,  8.75,  0.  ,\n",
       "       11.25], dtype=float32)"
      ]
     },
     "execution_count": 28,
     "metadata": {},
     "output_type": "execute_result"
    }
   ],
   "source": [
    "dropLayer(tmpArr, training=True).numpy()"
   ]
  },
  {
   "cell_type": "code",
   "execution_count": null,
   "id": "531402b8",
   "metadata": {},
   "outputs": [],
   "source": [
    "\n"
   ]
  },
  {
   "cell_type": "code",
   "execution_count": 29,
   "id": "d189b81a",
   "metadata": {},
   "outputs": [],
   "source": [
    "model = tf.keras.Sequential()"
   ]
  },
  {
   "cell_type": "code",
   "execution_count": 30,
   "id": "eafe6da4",
   "metadata": {},
   "outputs": [],
   "source": [
    "model.add(layers.InputLayer(input_shape=(2)))"
   ]
  },
  {
   "cell_type": "code",
   "execution_count": 31,
   "id": "46d81262",
   "metadata": {},
   "outputs": [],
   "source": [
    "model.add(layers.Dense(10))"
   ]
  },
  {
   "cell_type": "code",
   "execution_count": 32,
   "id": "7861a250",
   "metadata": {},
   "outputs": [],
   "source": [
    "model.add(layers.Activation('relu'))"
   ]
  },
  {
   "cell_type": "code",
   "execution_count": 33,
   "id": "0c6d9c0c",
   "metadata": {},
   "outputs": [],
   "source": [
    "model.add(layers.Dense(1))"
   ]
  },
  {
   "cell_type": "code",
   "execution_count": 34,
   "id": "65623073",
   "metadata": {},
   "outputs": [],
   "source": [
    "model.add(layers.Activation('sigmoid'))"
   ]
  },
  {
   "cell_type": "code",
   "execution_count": 35,
   "id": "f0a4fa5b",
   "metadata": {},
   "outputs": [
    {
     "name": "stdout",
     "output_type": "stream",
     "text": [
      "Model: \"sequential\"\n",
      "_________________________________________________________________\n",
      " Layer (type)                Output Shape              Param #   \n",
      "=================================================================\n",
      " dense_1 (Dense)             (None, 10)                30        \n",
      "                                                                 \n",
      " activation_1 (Activation)   (None, 10)                0         \n",
      "                                                                 \n",
      " dense_2 (Dense)             (None, 1)                 11        \n",
      "                                                                 \n",
      " activation_2 (Activation)   (None, 1)                 0         \n",
      "                                                                 \n",
      "=================================================================\n",
      "Total params: 41\n",
      "Trainable params: 41\n",
      "Non-trainable params: 0\n",
      "_________________________________________________________________\n"
     ]
    }
   ],
   "source": [
    "model.summary()"
   ]
  },
  {
   "cell_type": "code",
   "execution_count": 36,
   "id": "c7365585",
   "metadata": {},
   "outputs": [],
   "source": [
    "#trening modelu"
   ]
  },
  {
   "cell_type": "code",
   "execution_count": 37,
   "id": "f27a8f41",
   "metadata": {},
   "outputs": [],
   "source": [
    "optimizer = tf.keras.optimizers.SGD(learning_rate=0.01)"
   ]
  },
  {
   "cell_type": "code",
   "execution_count": 38,
   "id": "4ac8feef",
   "metadata": {},
   "outputs": [],
   "source": [
    "loss = tf.keras.losses.MeanSquaredError()"
   ]
  },
  {
   "cell_type": "code",
   "execution_count": 39,
   "id": "e73e9dca",
   "metadata": {},
   "outputs": [],
   "source": [
    "model.compile(\n",
    "    optimizer=optimizer,\n",
    "    loss=loss\n",
    ")"
   ]
  },
  {
   "cell_type": "code",
   "execution_count": 40,
   "id": "46de6255",
   "metadata": {},
   "outputs": [],
   "source": [
    "results = model.fit(\n",
    "    x = X,\n",
    "    y = Y,\n",
    "    epochs = 10000,\n",
    "    verbose=0\n",
    ")"
   ]
  },
  {
   "cell_type": "code",
   "execution_count": 41,
   "id": "2de179e0",
   "metadata": {},
   "outputs": [
    {
     "data": {
      "text/plain": [
       "dict_keys(['loss'])"
      ]
     },
     "execution_count": 41,
     "metadata": {},
     "output_type": "execute_result"
    }
   ],
   "source": [
    "results.history.keys()"
   ]
  },
  {
   "cell_type": "code",
   "execution_count": 42,
   "id": "251bb6d5",
   "metadata": {},
   "outputs": [],
   "source": [
    "# fig = plt.figure(figsize=(20,10))\n",
    "# plt.plot(results.history['loss'])\n",
    "# plt.xlabel('Epochs')\n",
    "# plt.ylabel('Loss')\n",
    "# plt.title('MSE through training')\n",
    "# plt.show()\n"
   ]
  },
  {
   "cell_type": "code",
   "execution_count": 43,
   "id": "d8166ff4",
   "metadata": {},
   "outputs": [
    {
     "name": "stdout",
     "output_type": "stream",
     "text": [
      "Model: \"sequential_1\"\n",
      "_________________________________________________________________\n",
      " Layer (type)                Output Shape              Param #   \n",
      "=================================================================\n",
      " dense_3 (Dense)             (None, 10)                30        \n",
      "                                                                 \n",
      " activation_3 (Activation)   (None, 10)                0         \n",
      "                                                                 \n",
      " dense_4 (Dense)             (None, 1)                 11        \n",
      "                                                                 \n",
      " activation_4 (Activation)   (None, 1)                 0         \n",
      "                                                                 \n",
      "=================================================================\n",
      "Total params: 41\n",
      "Trainable params: 41\n",
      "Non-trainable params: 0\n",
      "_________________________________________________________________\n"
     ]
    }
   ],
   "source": [
    "model = tf.keras.Sequential()\n",
    "model.add(layers.InputLayer(input_shape=(2)))\n",
    "model.add(layers.Dense(10))\n",
    "model.add(layers.Activation('relu'))\n",
    "model.add(layers.Dense(1))\n",
    "model.add(layers.Activation('sigmoid'))\n",
    "model.summary()\n",
    "\n",
    "optimizer = tf.keras.optimizers.SGD(learning_rate=10)\n",
    "loss = tf.keras.losses.MeanSquaredError()\n",
    "model.compile(\n",
    "    optimizer=optimizer,\n",
    "    loss=loss\n",
    ")\n",
    "\n",
    "results = model.fit(\n",
    "    x = X,\n",
    "    y = Y,\n",
    "    epochs = 100,\n",
    "    verbose=0\n",
    ")\n",
    "\n"
   ]
  },
  {
   "cell_type": "code",
   "execution_count": 44,
   "id": "a4246d2f",
   "metadata": {},
   "outputs": [],
   "source": [
    "# fig = plt.figure(figsize=(20,10))\n",
    "# plt.plot(results.history['loss'])\n",
    "# plt.xlabel('Epochs')\n",
    "# plt.ylabel('Loss')\n",
    "# plt.title('MSE through training')\n",
    "# plt.show()"
   ]
  },
  {
   "cell_type": "code",
   "execution_count": 45,
   "id": "b07d6045",
   "metadata": {},
   "outputs": [
    {
     "name": "stdout",
     "output_type": "stream",
     "text": [
      "Model: \"sequential_2\"\n",
      "_________________________________________________________________\n",
      " Layer (type)                Output Shape              Param #   \n",
      "=================================================================\n",
      " dense_5 (Dense)             (None, 10)                30        \n",
      "                                                                 \n",
      " activation_5 (Activation)   (None, 10)                0         \n",
      "                                                                 \n",
      " dense_6 (Dense)             (None, 1)                 11        \n",
      "                                                                 \n",
      " activation_6 (Activation)   (None, 1)                 0         \n",
      "                                                                 \n",
      "=================================================================\n",
      "Total params: 41\n",
      "Trainable params: 41\n",
      "Non-trainable params: 0\n",
      "_________________________________________________________________\n"
     ]
    }
   ],
   "source": [
    "model = tf.keras.Sequential()\n",
    "model.add(layers.InputLayer(input_shape=(2)))\n",
    "model.add(layers.Dense(10))\n",
    "model.add(layers.Activation('relu'))\n",
    "model.add(layers.Dense(1))\n",
    "model.add(layers.Activation('sigmoid'))\n",
    "model.summary()\n",
    "\n",
    "optimizer = tf.keras.optimizers.SGD(learning_rate=0.5)\n",
    "loss = tf.keras.losses.MeanSquaredError()\n",
    "model.compile(\n",
    "    optimizer=optimizer,\n",
    "    loss=loss\n",
    ")\n",
    "\n",
    "results = model.fit(\n",
    "    x = X,\n",
    "    y = Y,\n",
    "    epochs = 500,\n",
    "    verbose=0\n",
    ")\n"
   ]
  },
  {
   "cell_type": "code",
   "execution_count": 46,
   "id": "2a6b965a",
   "metadata": {},
   "outputs": [],
   "source": [
    "# fig = plt.figure(figsize=(20,10))\n",
    "# plt.plot(results.history['loss'])\n",
    "# plt.xlabel('Epochs')\n",
    "# plt.ylabel('Loss')\n",
    "# plt.title('MSE through training')\n",
    "# plt.show()"
   ]
  },
  {
   "cell_type": "code",
   "execution_count": 47,
   "id": "07f88bf9",
   "metadata": {},
   "outputs": [
    {
     "data": {
      "text/plain": [
       "0.003450875636190176"
      ]
     },
     "execution_count": 47,
     "metadata": {},
     "output_type": "execute_result"
    }
   ],
   "source": [
    "results.history['loss'][-1]"
   ]
  },
  {
   "cell_type": "code",
   "execution_count": 48,
   "id": "4b42bb34",
   "metadata": {},
   "outputs": [],
   "source": [
    "#walidacja, sprawdzenie czy model dobrze sie nauczył"
   ]
  },
  {
   "cell_type": "code",
   "execution_count": 49,
   "id": "87476e13",
   "metadata": {},
   "outputs": [
    {
     "name": "stdout",
     "output_type": "stream",
     "text": [
      "1/1 [==============================] - 0s 261ms/step - loss: 0.0034\n"
     ]
    },
    {
     "data": {
      "text/plain": [
       "0.0034404643811285496"
      ]
     },
     "execution_count": 49,
     "metadata": {},
     "output_type": "execute_result"
    }
   ],
   "source": [
    "model.evaluate(\n",
    "    x=X, \n",
    "    y=Y\n",
    ")"
   ]
  },
  {
   "cell_type": "code",
   "execution_count": 50,
   "id": "39335c14",
   "metadata": {},
   "outputs": [
    {
     "name": "stdout",
     "output_type": "stream",
     "text": [
      "1/1 [==============================] - 0s 156ms/step\n"
     ]
    },
    {
     "data": {
      "text/plain": [
       "array([[0.02864719],\n",
       "       [0.95905775],\n",
       "       [0.95889646],\n",
       "       [0.09785412]], dtype=float32)"
      ]
     },
     "execution_count": 50,
     "metadata": {},
     "output_type": "execute_result"
    }
   ],
   "source": [
    "y_pred = model.predict(X)\n",
    "y_pred"
   ]
  },
  {
   "cell_type": "code",
   "execution_count": 51,
   "id": "c7d204f2",
   "metadata": {},
   "outputs": [
    {
     "data": {
      "text/plain": [
       "array([0., 1., 1., 0.], dtype=float32)"
      ]
     },
     "execution_count": 51,
     "metadata": {},
     "output_type": "execute_result"
    }
   ],
   "source": [
    "Y"
   ]
  },
  {
   "cell_type": "code",
   "execution_count": 52,
   "id": "1ec77a7d",
   "metadata": {},
   "outputs": [
    {
     "data": {
      "text/plain": [
       "array([[0],\n",
       "       [1],\n",
       "       [1],\n",
       "       [0]])"
      ]
     },
     "execution_count": 52,
     "metadata": {},
     "output_type": "execute_result"
    }
   ],
   "source": [
    "np.greater(y_pred, 0.5).astype(np.int32)  #sprawdzenie czy model zwrócił dobre wartości, \n",
    "                                          #odpowiedzi wyświetlone w wartościach liczbowych int więc 0 to Fals a 1 to True"
   ]
  },
  {
   "cell_type": "code",
   "execution_count": 53,
   "id": "417eb4a5",
   "metadata": {},
   "outputs": [
    {
     "name": "stdout",
     "output_type": "stream",
     "text": [
      "1/1 [==============================] - 0s 49ms/step\n"
     ]
    },
    {
     "data": {
      "text/plain": [
       "array([[0.95905775]], dtype=float32)"
      ]
     },
     "execution_count": 53,
     "metadata": {},
     "output_type": "execute_result"
    }
   ],
   "source": [
    "model.predict(X[1].reshape(1,2))"
   ]
  },
  {
   "cell_type": "code",
   "execution_count": 54,
   "id": "d79a7a46",
   "metadata": {},
   "outputs": [
    {
     "name": "stdout",
     "output_type": "stream",
     "text": [
      "1/1 [==============================] - 0s 138ms/step\n"
     ]
    },
    {
     "data": {
      "text/plain": [
       "array([[0.95889646]], dtype=float32)"
      ]
     },
     "execution_count": 54,
     "metadata": {},
     "output_type": "execute_result"
    }
   ],
   "source": [
    "model.predict([[0,1]])"
   ]
  },
  {
   "cell_type": "code",
   "execution_count": 55,
   "id": "2735ffd5",
   "metadata": {},
   "outputs": [
    {
     "name": "stdout",
     "output_type": "stream",
     "text": [
      "1/1 [==============================] - 0s 85ms/step\n"
     ]
    },
    {
     "data": {
      "text/plain": [
       "array([[0.9991469]], dtype=float32)"
      ]
     },
     "execution_count": 55,
     "metadata": {},
     "output_type": "execute_result"
    }
   ],
   "source": [
    "model.predict([[0,2]])"
   ]
  },
  {
   "cell_type": "code",
   "execution_count": 56,
   "id": "b28ac0a0",
   "metadata": {},
   "outputs": [
    {
     "name": "stdout",
     "output_type": "stream",
     "text": [
      "1/1 [==============================] - 0s 93ms/step\n"
     ]
    },
    {
     "data": {
      "text/plain": [
       "array([[4.756236e-07]], dtype=float32)"
      ]
     },
     "execution_count": 56,
     "metadata": {},
     "output_type": "execute_result"
    }
   ],
   "source": [
    "model.predict([[5,5]])"
   ]
  },
  {
   "cell_type": "code",
   "execution_count": 57,
   "id": "290aa000",
   "metadata": {},
   "outputs": [],
   "source": [
    "## Dodawanie warstw"
   ]
  },
  {
   "cell_type": "code",
   "execution_count": 72,
   "id": "d5eadb0f",
   "metadata": {},
   "outputs": [],
   "source": [
    "model = tf.keras.Sequential()"
   ]
  },
  {
   "cell_type": "code",
   "execution_count": 73,
   "id": "268bcc10",
   "metadata": {},
   "outputs": [],
   "source": [
    "model.add(layers.InputLayer(input_shape=(2), name=\"wejscie\"))"
   ]
  },
  {
   "cell_type": "code",
   "execution_count": 74,
   "id": "9e7abbf3",
   "metadata": {},
   "outputs": [],
   "source": [
    "model.add(layers.Dense(1024, activation='relu', name='ukryta_pierwsza'))"
   ]
  },
  {
   "cell_type": "code",
   "execution_count": 75,
   "id": "41efd792",
   "metadata": {},
   "outputs": [],
   "source": [
    "model.add(layers.Dense(512, activation='relu', name='ukryta_druga'))"
   ]
  },
  {
   "cell_type": "code",
   "execution_count": 76,
   "id": "8cb32a95",
   "metadata": {},
   "outputs": [],
   "source": [
    "model.add(layers.Dense(256, activation='relu', name='ukryta_trzecia'))"
   ]
  },
  {
   "cell_type": "code",
   "execution_count": 77,
   "id": "ae3bf633",
   "metadata": {},
   "outputs": [],
   "source": [
    "model.add(layers.Dense(1, activation='sigmoid', name='wyjscie'))"
   ]
  },
  {
   "cell_type": "markdown",
   "id": "28386edb",
   "metadata": {},
   "source": []
  },
  {
   "cell_type": "code",
   "execution_count": 78,
   "id": "7fb1ac6d",
   "metadata": {},
   "outputs": [],
   "source": [
    "model.compile(\n",
    "    optimizer=tf.keras.optimizers.SGD(learning_rate=0.1),\n",
    "    loss=tf.keras.losses.MeanSquaredError()\n",
    ")"
   ]
  },
  {
   "cell_type": "code",
   "execution_count": 79,
   "id": "200d94b0",
   "metadata": {},
   "outputs": [
    {
     "name": "stdout",
     "output_type": "stream",
     "text": [
      "Model: \"sequential_4\"\n",
      "_________________________________________________________________\n",
      " Layer (type)                Output Shape              Param #   \n",
      "=================================================================\n",
      " ukryta_pierwsza (Dense)     (None, 1024)              3072      \n",
      "                                                                 \n",
      " ukryta_druga (Dense)        (None, 512)               524800    \n",
      "                                                                 \n",
      " ukryta_trzecia (Dense)      (None, 256)               131328    \n",
      "                                                                 \n",
      " wyjscie (Dense)             (None, 1)                 257       \n",
      "                                                                 \n",
      "=================================================================\n",
      "Total params: 659,457\n",
      "Trainable params: 659,457\n",
      "Non-trainable params: 0\n",
      "_________________________________________________________________\n"
     ]
    }
   ],
   "source": [
    "model.summary()"
   ]
  },
  {
   "cell_type": "code",
   "execution_count": 80,
   "id": "7cba6352",
   "metadata": {},
   "outputs": [],
   "source": [
    "##trening rozszerzonego modelu"
   ]
  },
  {
   "cell_type": "markdown",
   "id": "cdcd5941",
   "metadata": {},
   "source": []
  },
  {
   "cell_type": "code",
   "execution_count": null,
   "id": "7e92fde8",
   "metadata": {},
   "outputs": [],
   "source": []
  },
  {
   "cell_type": "code",
   "execution_count": 81,
   "id": "e3c7a8be",
   "metadata": {},
   "outputs": [],
   "source": [
    "results = model.fit(\n",
    "    x = X,\n",
    "    y = Y,\n",
    "    epochs = 500,\n",
    "    verbose=0\n",
    ")\n",
    "\n",
    "# fig = plt.figure(figsize=(20,10))\n",
    "# plt.plot(results.history['loss'])\n",
    "# plt.xlabel('Epochs')\n",
    "# plt.ylabel('Loss')\n",
    "# plt.title('MSE through training')\n",
    "# plt.show()"
   ]
  },
  {
   "cell_type": "code",
   "execution_count": 82,
   "id": "1fa7a965",
   "metadata": {},
   "outputs": [],
   "source": [
    "## Rzeczywiste funkcjonowanie modelu\n"
   ]
  },
  {
   "cell_type": "code",
   "execution_count": 83,
   "id": "04679cae",
   "metadata": {},
   "outputs": [
    {
     "name": "stdout",
     "output_type": "stream",
     "text": [
      "1/1 [==============================] - 0s 125ms/step\n"
     ]
    },
    {
     "data": {
      "text/plain": [
       "array([[0.03601408],\n",
       "       [0.9587921 ],\n",
       "       [0.9595993 ],\n",
       "       [0.07098251]], dtype=float32)"
      ]
     },
     "execution_count": 83,
     "metadata": {},
     "output_type": "execute_result"
    }
   ],
   "source": [
    "y_pred = model.predict(X)\n",
    "y_pred"
   ]
  },
  {
   "cell_type": "code",
   "execution_count": 84,
   "id": "6db56311",
   "metadata": {},
   "outputs": [
    {
     "data": {
      "text/plain": [
       "array([[0],\n",
       "       [1],\n",
       "       [1],\n",
       "       [0]])"
      ]
     },
     "execution_count": 84,
     "metadata": {},
     "output_type": "execute_result"
    }
   ],
   "source": [
    "np.greater(y_pred, 0.5).astype(np.int32)"
   ]
  },
  {
   "cell_type": "code",
   "execution_count": 85,
   "id": "6cce4a44",
   "metadata": {},
   "outputs": [],
   "source": [
    "## Archiwizacja modelu"
   ]
  },
  {
   "cell_type": "code",
   "execution_count": 86,
   "id": "975f2616",
   "metadata": {},
   "outputs": [
    {
     "name": "stdout",
     "output_type": "stream",
     "text": [
      "INFO:tensorflow:Assets written to: model\\assets\n"
     ]
    }
   ],
   "source": [
    "model.save(filepath='model')"
   ]
  },
  {
   "cell_type": "code",
   "execution_count": 87,
   "id": "ae6eaeee",
   "metadata": {},
   "outputs": [
    {
     "name": "stdout",
     "output_type": "stream",
     "text": [
      " Volume in drive C is OS\n",
      " Volume Serial Number is 5C45-5B08\n",
      "\n",
      " Directory of C:\\Users\\piotr\\model\n",
      "\n",
      "07.03.2023  20:46    <DIR>          .\n",
      "07.03.2023  20:46    <DIR>          ..\n",
      "07.03.2023  20:46    <DIR>          assets\n",
      "07.03.2023  20:46            10˙021 keras_metadata.pb\n",
      "07.03.2023  20:46            89˙202 saved_model.pb\n",
      "07.03.2023  20:46    <DIR>          variables\n",
      "               2 File(s)         99˙223 bytes\n",
      "               4 Dir(s)  571˙536˙588˙800 bytes free\n"
     ]
    }
   ],
   "source": [
    "ls model"
   ]
  },
  {
   "cell_type": "code",
   "execution_count": 88,
   "id": "4d6ec97a",
   "metadata": {},
   "outputs": [],
   "source": [
    "## Wczytanie modelu"
   ]
  },
  {
   "cell_type": "code",
   "execution_count": 89,
   "id": "f76f0b7a",
   "metadata": {},
   "outputs": [],
   "source": [
    "loaded_model = tf.keras.models.load_model(\n",
    "    filepath = 'model'\n",
    ")"
   ]
  },
  {
   "cell_type": "code",
   "execution_count": 90,
   "id": "3903f273",
   "metadata": {},
   "outputs": [
    {
     "name": "stdout",
     "output_type": "stream",
     "text": [
      "1/1 [==============================] - 0s 180ms/step - loss: 0.0024\n"
     ]
    },
    {
     "data": {
      "text/plain": [
       "0.0024164605420082808"
      ]
     },
     "execution_count": 90,
     "metadata": {},
     "output_type": "execute_result"
    }
   ],
   "source": [
    "loaded_model.evaluate(\n",
    "    x=X,\n",
    "    y=Y\n",
    ")"
   ]
  },
  {
   "cell_type": "code",
   "execution_count": 92,
   "id": "47676927",
   "metadata": {},
   "outputs": [
    {
     "name": "stdout",
     "output_type": "stream",
     "text": [
      "1/1 [==============================] - 0s 98ms/step\n"
     ]
    },
    {
     "data": {
      "text/plain": [
       "array([[0.03601408],\n",
       "       [0.9587921 ],\n",
       "       [0.9595993 ],\n",
       "       [0.07098251]], dtype=float32)"
      ]
     },
     "execution_count": 92,
     "metadata": {},
     "output_type": "execute_result"
    }
   ],
   "source": [
    "loaded_model.predict(X)"
   ]
  },
  {
   "cell_type": "code",
   "execution_count": 94,
   "id": "ff8a5fdc",
   "metadata": {},
   "outputs": [
    {
     "name": "stdout",
     "output_type": "stream",
     "text": [
      "Epoch 1/5\n",
      "1/1 [==============================] - 1s 1s/step - loss: 0.0024\n",
      "Epoch 2/5\n",
      "1/1 [==============================] - 0s 10ms/step - loss: 0.0024\n",
      "Epoch 3/5\n",
      "1/1 [==============================] - 0s 10ms/step - loss: 0.0024\n",
      "Epoch 4/5\n",
      "1/1 [==============================] - 0s 7ms/step - loss: 0.0024\n",
      "Epoch 5/5\n",
      "1/1 [==============================] - 0s 9ms/step - loss: 0.0024\n"
     ]
    }
   ],
   "source": [
    "results = loaded_model.fit(\n",
    "    x=X,\n",
    "    y=Y,\n",
    "    epochs=5\n",
    ")"
   ]
  },
  {
   "cell_type": "code",
   "execution_count": null,
   "id": "60508b3c",
   "metadata": {},
   "outputs": [],
   "source": []
  }
 ],
 "metadata": {
  "kernelspec": {
   "display_name": "Python 3 (ipykernel)",
   "language": "python",
   "name": "python3"
  },
  "language_info": {
   "codemirror_mode": {
    "name": "ipython",
    "version": 3
   },
   "file_extension": ".py",
   "mimetype": "text/x-python",
   "name": "python",
   "nbconvert_exporter": "python",
   "pygments_lexer": "ipython3",
   "version": "3.9.16"
  }
 },
 "nbformat": 4,
 "nbformat_minor": 5
}
